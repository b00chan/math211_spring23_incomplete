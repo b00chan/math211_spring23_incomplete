{
 "cells": [
  {
   "cell_type": "code",
   "execution_count": 54,
   "id": "ed49d269",
   "metadata": {},
   "outputs": [],
   "source": [
    "import numpy as np\n",
    "from datascience import *"
   ]
  },
  {
   "cell_type": "markdown",
   "id": "c5f4467f",
   "metadata": {},
   "source": [
    "# Building Tables"
   ]
  },
  {
   "cell_type": "code",
   "execution_count": 55,
   "id": "783b5878",
   "metadata": {},
   "outputs": [
    {
     "data": {
      "text/html": [
       "<table border=\"1\" class=\"dataframe\">\n",
       "    <thead>\n",
       "        <tr>\n",
       "            <th>Unnamed: 0</th> <th>\"Name\"</th> <th>Services</th> <th>Course</th> <th>SignInTime</th> <th>SignOutTime</th> <th>Period</th> <th>Tutor</th>\n",
       "        </tr>\n",
       "    </thead>\n",
       "    <tbody>\n",
       "        <tr>\n",
       "            <td>0         </td> <td>Jojo  </td> <td>No Sessions                     </td> <td>nan                                 </td> <td>nan                </td> <td>nan                </td> <td>nan     </td> <td>nan          </td>\n",
       "        </tr>\n",
       "        <tr>\n",
       "            <td>1         </td> <td>Shayla</td> <td>In-person Tutoring (STEM Center)</td> <td>[MATH-252]Calcu/Analytic Geometry II</td> <td>2022-10-07 09:05:00</td> <td>2022-10-07 09:16:00</td> <td>00:11:00</td> <td>Thiri Wai Wai</td>\n",
       "        </tr>\n",
       "        <tr>\n",
       "            <td>2         </td> <td>Shayla</td> <td>In-person Tutoring (STEM Center)</td> <td>[MATH-252]Calcu/Analytic Geometry II</td> <td>2022-10-05 11:17:00</td> <td>2022-10-05 11:59:00</td> <td>00:42:00</td> <td>Hilary Lin   </td>\n",
       "        </tr>\n",
       "        <tr>\n",
       "            <td>3         </td> <td>Shayla</td> <td>Space to Study (STEM Center)    </td> <td>nan                                 </td> <td>2022-09-28 09:03:00</td> <td>2022-09-28 10:06:00</td> <td>01:03:00</td> <td>nan          </td>\n",
       "        </tr>\n",
       "        <tr>\n",
       "            <td>4         </td> <td>Shayla</td> <td>In-person Tutoring (STEM Center)</td> <td>[MATH-252]Calcu/Analytic Geometry II</td> <td>2022-09-21 09:50:00</td> <td>2022-09-21 10:05:00</td> <td>00:15:00</td> <td>Thiri Wai Wai</td>\n",
       "        </tr>\n",
       "        <tr>\n",
       "            <td>5         </td> <td>Shayla</td> <td>Space to Study (STEM Center)    </td> <td>nan                                 </td> <td>2022-09-19 14:11:00</td> <td>2022-09-19 17:41:00</td> <td>03:30:00</td> <td>nan          </td>\n",
       "        </tr>\n",
       "        <tr>\n",
       "            <td>6         </td> <td>Shayla</td> <td>Space to Study (STEM Center)    </td> <td>nan                                 </td> <td>2022-09-19 09:08:00</td> <td>2022-09-19 12:03:00</td> <td>02:55:00</td> <td>nan          </td>\n",
       "        </tr>\n",
       "        <tr>\n",
       "            <td>7         </td> <td>Shayla</td> <td>Space to Study (STEM Center)    </td> <td>nan                                 </td> <td>2022-09-12 09:13:00</td> <td>2022-09-12 09:51:00</td> <td>00:38:00</td> <td>nan          </td>\n",
       "        </tr>\n",
       "        <tr>\n",
       "            <td>8         </td> <td>Shayla</td> <td>Space to Study (STEM Center)    </td> <td>nan                                 </td> <td>2022-09-07 15:48:00</td> <td>2022-09-07 17:26:00</td> <td>01:38:00</td> <td>nan          </td>\n",
       "        </tr>\n",
       "        <tr>\n",
       "            <td>9         </td> <td>Shayla</td> <td>Space to Study (STEM Center)    </td> <td>nan                                 </td> <td>2022-09-07 11:43:00</td> <td>2022-09-07 11:43:00</td> <td>00:00:00</td> <td>nan          </td>\n",
       "        </tr>\n",
       "    </tbody>\n",
       "</table>\n",
       "<p>... (9691 rows omitted)</p>"
      ],
      "text/plain": [
       "Unnamed: 0 | \"Name\" | Services                         | Course                               | SignInTime          | SignOutTime         | Period   | Tutor\n",
       "0          | Jojo   | No Sessions                      | nan                                  | nan                 | nan                 | nan      | nan\n",
       "1          | Shayla | In-person Tutoring (STEM Center) | [MATH-252]Calcu/Analytic Geometry II | 2022-10-07 09:05:00 | 2022-10-07 09:16:00 | 00:11:00 | Thiri Wai Wai\n",
       "2          | Shayla | In-person Tutoring (STEM Center) | [MATH-252]Calcu/Analytic Geometry II | 2022-10-05 11:17:00 | 2022-10-05 11:59:00 | 00:42:00 | Hilary Lin\n",
       "3          | Shayla | Space to Study (STEM Center)     | nan                                  | 2022-09-28 09:03:00 | 2022-09-28 10:06:00 | 01:03:00 | nan\n",
       "4          | Shayla | In-person Tutoring (STEM Center) | [MATH-252]Calcu/Analytic Geometry II | 2022-09-21 09:50:00 | 2022-09-21 10:05:00 | 00:15:00 | Thiri Wai Wai\n",
       "5          | Shayla | Space to Study (STEM Center)     | nan                                  | 2022-09-19 14:11:00 | 2022-09-19 17:41:00 | 03:30:00 | nan\n",
       "6          | Shayla | Space to Study (STEM Center)     | nan                                  | 2022-09-19 09:08:00 | 2022-09-19 12:03:00 | 02:55:00 | nan\n",
       "7          | Shayla | Space to Study (STEM Center)     | nan                                  | 2022-09-12 09:13:00 | 2022-09-12 09:51:00 | 00:38:00 | nan\n",
       "8          | Shayla | Space to Study (STEM Center)     | nan                                  | 2022-09-07 15:48:00 | 2022-09-07 17:26:00 | 01:38:00 | nan\n",
       "9          | Shayla | Space to Study (STEM Center)     | nan                                  | 2022-09-07 11:43:00 | 2022-09-07 11:43:00 | 00:00:00 | nan\n",
       "... (9691 rows omitted)"
      ]
     },
     "execution_count": 55,
     "metadata": {},
     "output_type": "execute_result"
    }
   ],
   "source": [
    "session_logs = Table.read_table('(Enc)Data - Coded_SessionLogs.csv')\n",
    "session_logs"
   ]
  },
  {
   "cell_type": "code",
   "execution_count": 56,
   "id": "70724c62",
   "metadata": {},
   "outputs": [
    {
     "data": {
      "text/plain": [
       "array(['Netflix', 'HBO Max', 'Hulu', 'Crunchyroll', 'Spotify', 'DoorDash',\n",
       "       'AmazonPrime', 'Discord Nitro'],\n",
       "      dtype='<U13')"
      ]
     },
     "execution_count": 56,
     "metadata": {},
     "output_type": "execute_result"
    }
   ],
   "source": [
    "subscription = make_array('Netflix','HBO Max','Hulu','Crunchyroll','Spotify','DoorDash','AmazonPrime','Discord Nitro')\n",
    "subscription"
   ]
  },
  {
   "cell_type": "code",
   "execution_count": 57,
   "id": "b8e766a5",
   "metadata": {},
   "outputs": [
    {
     "data": {
      "text/plain": [
       "array([ 19.99      ,  14.99      ,   9.99      ,   9.99      ,\n",
       "         9.99      ,   9.99      ,  10.83333333,  14.16416667])"
      ]
     },
     "execution_count": 57,
     "metadata": {},
     "output_type": "execute_result"
    }
   ],
   "source": [
    "#Amazon and Discord are annual fees\n",
    "month_fee_cost = make_array(19.99,14.99,9.99,9.99,9.99,9.99,(130/12),(169.97/12))\n",
    "month_fee_cost"
   ]
  },
  {
   "cell_type": "code",
   "execution_count": 58,
   "id": "fa5dc5ba",
   "metadata": {},
   "outputs": [
    {
     "data": {
      "text/html": [
       "<table border=\"1\" class=\"dataframe\">\n",
       "    <thead>\n",
       "        <tr>\n",
       "            <th>Subscription</th> <th>$$ per month</th>\n",
       "        </tr>\n",
       "    </thead>\n",
       "    <tbody>\n",
       "        <tr>\n",
       "            <td>Netflix      </td> <td>19.99       </td>\n",
       "        </tr>\n",
       "        <tr>\n",
       "            <td>HBO Max      </td> <td>14.99       </td>\n",
       "        </tr>\n",
       "        <tr>\n",
       "            <td>Hulu         </td> <td>9.99        </td>\n",
       "        </tr>\n",
       "        <tr>\n",
       "            <td>Crunchyroll  </td> <td>9.99        </td>\n",
       "        </tr>\n",
       "        <tr>\n",
       "            <td>Spotify      </td> <td>9.99        </td>\n",
       "        </tr>\n",
       "        <tr>\n",
       "            <td>DoorDash     </td> <td>9.99        </td>\n",
       "        </tr>\n",
       "        <tr>\n",
       "            <td>AmazonPrime  </td> <td>10.8333     </td>\n",
       "        </tr>\n",
       "        <tr>\n",
       "            <td>Discord Nitro</td> <td>14.1642     </td>\n",
       "        </tr>\n",
       "    </tbody>\n",
       "</table>"
      ],
      "text/plain": [
       "Subscription  | $$ per month\n",
       "Netflix       | 19.99\n",
       "HBO Max       | 14.99\n",
       "Hulu          | 9.99\n",
       "Crunchyroll   | 9.99\n",
       "Spotify       | 9.99\n",
       "DoorDash      | 9.99\n",
       "AmazonPrime   | 10.8333\n",
       "Discord Nitro | 14.1642"
      ]
     },
     "execution_count": 58,
     "metadata": {},
     "output_type": "execute_result"
    }
   ],
   "source": [
    "bryans_monthly_subscriptions = Table().with_columns('Subscription',subscription,'$$ per month',month_fee_cost)\n",
    "bryans_monthly_subscriptions"
   ]
  },
  {
   "cell_type": "code",
   "execution_count": 59,
   "id": "2023e898",
   "metadata": {},
   "outputs": [
    {
     "data": {
      "text/plain": [
       "array([ 239.88,  179.88,  119.88,  119.88,  119.88,  119.88,  130.  ,\n",
       "        169.97])"
      ]
     },
     "execution_count": 59,
     "metadata": {},
     "output_type": "execute_result"
    }
   ],
   "source": [
    "#annual_cost = bryans_monthly_subscriptions.column('$$ per month') * 12\n",
    "#OR, below\n",
    "annual_cost = month_fee_cost *12 \n",
    "annual_cost"
   ]
  },
  {
   "cell_type": "code",
   "execution_count": 60,
   "id": "69940014",
   "metadata": {
    "scrolled": true
   },
   "outputs": [
    {
     "data": {
      "text/html": [
       "<table border=\"1\" class=\"dataframe\">\n",
       "    <thead>\n",
       "        <tr>\n",
       "            <th>Subscription</th> <th>$$ per month</th> <th>$$ each year</th>\n",
       "        </tr>\n",
       "    </thead>\n",
       "    <tbody>\n",
       "        <tr>\n",
       "            <td>Netflix      </td> <td>19.99       </td> <td>239.88      </td>\n",
       "        </tr>\n",
       "        <tr>\n",
       "            <td>HBO Max      </td> <td>14.99       </td> <td>179.88      </td>\n",
       "        </tr>\n",
       "        <tr>\n",
       "            <td>Hulu         </td> <td>9.99        </td> <td>119.88      </td>\n",
       "        </tr>\n",
       "        <tr>\n",
       "            <td>Crunchyroll  </td> <td>9.99        </td> <td>119.88      </td>\n",
       "        </tr>\n",
       "        <tr>\n",
       "            <td>Spotify      </td> <td>9.99        </td> <td>119.88      </td>\n",
       "        </tr>\n",
       "        <tr>\n",
       "            <td>DoorDash     </td> <td>9.99        </td> <td>119.88      </td>\n",
       "        </tr>\n",
       "        <tr>\n",
       "            <td>AmazonPrime  </td> <td>10.8333     </td> <td>130         </td>\n",
       "        </tr>\n",
       "        <tr>\n",
       "            <td>Discord Nitro</td> <td>14.1642     </td> <td>169.97      </td>\n",
       "        </tr>\n",
       "    </tbody>\n",
       "</table>"
      ],
      "text/plain": [
       "Subscription  | $$ per month | $$ each year\n",
       "Netflix       | 19.99        | 239.88\n",
       "HBO Max       | 14.99        | 179.88\n",
       "Hulu          | 9.99         | 119.88\n",
       "Crunchyroll   | 9.99         | 119.88\n",
       "Spotify       | 9.99         | 119.88\n",
       "DoorDash      | 9.99         | 119.88\n",
       "AmazonPrime   | 10.8333      | 130\n",
       "Discord Nitro | 14.1642      | 169.97"
      ]
     },
     "execution_count": 60,
     "metadata": {},
     "output_type": "execute_result"
    }
   ],
   "source": [
    "new_table = bryans_monthly_subscriptions.with_column('$$ each year',annual_cost)#.drop('$$ per month')\n",
    "new_table"
   ]
  },
  {
   "cell_type": "code",
   "execution_count": 61,
   "id": "8345a7e1",
   "metadata": {},
   "outputs": [
    {
     "data": {
      "text/plain": [
       "1199.25"
      ]
     },
     "execution_count": 61,
     "metadata": {},
     "output_type": "execute_result"
    }
   ],
   "source": [
    "sum(annual_cost)"
   ]
  },
  {
   "cell_type": "code",
   "execution_count": 62,
   "id": "b0a36844",
   "metadata": {},
   "outputs": [],
   "source": [
    "new_new = new_table.take(np.arange(4))"
   ]
  },
  {
   "cell_type": "code",
   "execution_count": 63,
   "id": "0ef1f9bd",
   "metadata": {},
   "outputs": [
    {
     "data": {
      "text/html": [
       "<table border=\"1\" class=\"dataframe\">\n",
       "    <thead>\n",
       "        <tr>\n",
       "            <th>Subscription</th> <th>$$ per month</th> <th>$$ each year</th>\n",
       "        </tr>\n",
       "    </thead>\n",
       "    <tbody>\n",
       "        <tr>\n",
       "            <td>Netflix      </td> <td>19.99       </td> <td>239.88      </td>\n",
       "        </tr>\n",
       "        <tr>\n",
       "            <td>HBO Max      </td> <td>14.99       </td> <td>179.88      </td>\n",
       "        </tr>\n",
       "        <tr>\n",
       "            <td>Hulu         </td> <td>9.99        </td> <td>119.88      </td>\n",
       "        </tr>\n",
       "        <tr>\n",
       "            <td>Crunchyroll  </td> <td>9.99        </td> <td>119.88      </td>\n",
       "        </tr>\n",
       "        <tr>\n",
       "            <td>Spotify      </td> <td>9.99        </td> <td>119.88      </td>\n",
       "        </tr>\n",
       "        <tr>\n",
       "            <td>DoorDash     </td> <td>9.99        </td> <td>119.88      </td>\n",
       "        </tr>\n",
       "        <tr>\n",
       "            <td>AmazonPrime  </td> <td>10.8333     </td> <td>130         </td>\n",
       "        </tr>\n",
       "        <tr>\n",
       "            <td>Discord Nitro</td> <td>14.1642     </td> <td>169.97      </td>\n",
       "        </tr>\n",
       "    </tbody>\n",
       "</table>"
      ],
      "text/plain": [
       "Subscription  | $$ per month | $$ each year\n",
       "Netflix       | 19.99        | 239.88\n",
       "HBO Max       | 14.99        | 179.88\n",
       "Hulu          | 9.99         | 119.88\n",
       "Crunchyroll   | 9.99         | 119.88\n",
       "Spotify       | 9.99         | 119.88\n",
       "DoorDash      | 9.99         | 119.88\n",
       "AmazonPrime   | 10.8333      | 130\n",
       "Discord Nitro | 14.1642      | 169.97"
      ]
     },
     "execution_count": 63,
     "metadata": {},
     "output_type": "execute_result"
    }
   ],
   "source": [
    "#since new_table.take() was not assigned to a variable (old or new) the result of the .take() method was not saved\n",
    "new_table"
   ]
  },
  {
   "cell_type": "code",
   "execution_count": 64,
   "id": "3c6583a8",
   "metadata": {},
   "outputs": [
    {
     "data": {
      "text/html": [
       "<table border=\"1\" class=\"dataframe\">\n",
       "    <thead>\n",
       "        <tr>\n",
       "            <th>Subscription</th> <th>$$ per month</th> <th>$$ each year</th>\n",
       "        </tr>\n",
       "    </thead>\n",
       "    <tbody>\n",
       "        <tr>\n",
       "            <td>Netflix     </td> <td>19.99       </td> <td>239.88      </td>\n",
       "        </tr>\n",
       "        <tr>\n",
       "            <td>HBO Max     </td> <td>14.99       </td> <td>179.88      </td>\n",
       "        </tr>\n",
       "        <tr>\n",
       "            <td>Hulu        </td> <td>9.99        </td> <td>119.88      </td>\n",
       "        </tr>\n",
       "        <tr>\n",
       "            <td>Crunchyroll </td> <td>9.99        </td> <td>119.88      </td>\n",
       "        </tr>\n",
       "    </tbody>\n",
       "</table>"
      ],
      "text/plain": [
       "Subscription | $$ per month | $$ each year\n",
       "Netflix      | 19.99        | 239.88\n",
       "HBO Max      | 14.99        | 179.88\n",
       "Hulu         | 9.99         | 119.88\n",
       "Crunchyroll  | 9.99         | 119.88"
      ]
     },
     "execution_count": 64,
     "metadata": {},
     "output_type": "execute_result"
    }
   ],
   "source": [
    "new_new"
   ]
  },
  {
   "cell_type": "markdown",
   "id": "f518ca57",
   "metadata": {},
   "source": [
    "# Order of Operations with tables"
   ]
  },
  {
   "cell_type": "code",
   "execution_count": 65,
   "id": "62f6f472",
   "metadata": {},
   "outputs": [
    {
     "data": {
      "text/html": [
       "<table border=\"1\" class=\"dataframe\">\n",
       "    <thead>\n",
       "        <tr>\n",
       "            <th>index</th> <th>Title</th> <th>Release Date</th> <th>Year</th> <th>Description</th> <th>URL</th> <th>IMDb Rating</th> <th>Runtime (mins)</th> <th>Genres</th> <th>Num Votes</th> <th>Directors</th> <th>Movie Series</th> <th>Order</th>\n",
       "        </tr>\n",
       "    </thead>\n",
       "    <tbody>\n",
       "        <tr>\n",
       "            <td>0    </td> <td>101 Dalmatians       </td> <td>18-11-1996  </td> <td>1996</td> <td>nan        </td> <td>https://www.imdb.com/title/tt0115433/</td> <td>5.7        </td> <td>103           </td> <td>Adventure, Comedy, Crime, Family</td> <td>98439    </td> <td>Stephen Herek                </td> <td>101 Dalmatians</td> <td>1    </td>\n",
       "        </tr>\n",
       "        <tr>\n",
       "            <td>1    </td> <td>102 Dalmatians       </td> <td>22-11-2000  </td> <td>2000</td> <td>nan        </td> <td>https://www.imdb.com/title/tt0211181/</td> <td>4.9        </td> <td>100           </td> <td>Adventure, Comedy, Family       </td> <td>33823    </td> <td>Kevin Lima                   </td> <td>101 Dalmatians</td> <td>2    </td>\n",
       "        </tr>\n",
       "        <tr>\n",
       "            <td>2    </td> <td>12 Rounds            </td> <td>19-03-2009  </td> <td>2009</td> <td>nan        </td> <td>https://www.imdb.com/title/tt1160368/</td> <td>5.6        </td> <td>108           </td> <td>Action, Crime, Thriller         </td> <td>26828    </td> <td>Renny Harlin                 </td> <td>12 Rounds     </td> <td>1    </td>\n",
       "        </tr>\n",
       "        <tr>\n",
       "            <td>3    </td> <td>12 Rounds 2: Reloaded</td> <td>04-06-2013  </td> <td>2013</td> <td>nan        </td> <td>https://www.imdb.com/title/tt2317524/</td> <td>5.3        </td> <td>95            </td> <td>Action, Adventure, Thriller     </td> <td>5141     </td> <td>Roel Reiné                   </td> <td>12 Rounds     </td> <td>2    </td>\n",
       "        </tr>\n",
       "        <tr>\n",
       "            <td>4    </td> <td>21 Jump Street       </td> <td>12-03-2012  </td> <td>2012</td> <td>nan        </td> <td>https://www.imdb.com/title/tt1232829/</td> <td>7.2        </td> <td>109           </td> <td>Action, Comedy, Crime           </td> <td>498876   </td> <td>Christopher Miller, Phil Lord</td> <td>21 Jump Street</td> <td>1    </td>\n",
       "        </tr>\n",
       "    </tbody>\n",
       "</table>\n",
       "<p>... (861 rows omitted)</p>"
      ],
      "text/plain": [
       "<IPython.core.display.HTML object>"
      ]
     },
     "metadata": {},
     "output_type": "display_data"
    }
   ],
   "source": [
    "movies = Table.read_table('Movies - Cleaned.csv')\n",
    "movies.show(5)"
   ]
  },
  {
   "cell_type": "markdown",
   "id": "a2c6cab6",
   "metadata": {},
   "source": [
    "## Question: How many movies in this data set were sequels?"
   ]
  },
  {
   "cell_type": "code",
   "execution_count": 66,
   "id": "51de610b",
   "metadata": {},
   "outputs": [
    {
     "data": {
      "text/html": [
       "<table border=\"1\" class=\"dataframe\">\n",
       "    <thead>\n",
       "        <tr>\n",
       "            <th>index</th> <th>Title</th> <th>Release Date</th> <th>Year</th> <th>Description</th> <th>URL</th> <th>IMDb Rating</th> <th>Runtime (mins)</th> <th>Genres</th> <th>Num Votes</th> <th>Directors</th> <th>Movie Series</th> <th>Order</th>\n",
       "        </tr>\n",
       "    </thead>\n",
       "    <tbody>\n",
       "        <tr>\n",
       "            <td>258  </td> <td>Halloween              </td> <td>08-09-2018  </td> <td>2018</td> <td>nan        </td> <td>https://www.imdb.com/title/tt1502407/</td> <td>6.6        </td> <td>106           </td> <td>Horror, Thriller                   </td> <td>109901   </td> <td>David Gordon Green</td> <td>Halloween   </td> <td>11   </td>\n",
       "        </tr>\n",
       "        <tr>\n",
       "            <td>571  </td> <td>Star Trek: Nemesis     </td> <td>09-12-2002  </td> <td>2002</td> <td>nan        </td> <td>https://www.imdb.com/title/tt0253754/</td> <td>6.4        </td> <td>116           </td> <td>Action, Adventure, Sci-Fi, Thriller</td> <td>71979    </td> <td>Stuart Baird      </td> <td>Star Trek   </td> <td>11   </td>\n",
       "        </tr>\n",
       "        <tr>\n",
       "            <td>572  </td> <td>Star Trek              </td> <td>06-04-2009  </td> <td>2009</td> <td>nan        </td> <td>https://www.imdb.com/title/tt0796366/</td> <td>7.9        </td> <td>127           </td> <td>Action, Adventure, Sci-Fi          </td> <td>569573   </td> <td>J.J. Abrams       </td> <td>Star Trek   </td> <td>12   </td>\n",
       "        </tr>\n",
       "        <tr>\n",
       "            <td>573  </td> <td>Star Trek Into Darkness</td> <td>02-05-2013  </td> <td>2013</td> <td>nan        </td> <td>https://www.imdb.com/title/tt1408101/</td> <td>7.7        </td> <td>132           </td> <td>Action, Adventure, Sci-Fi          </td> <td>456702   </td> <td>J.J. Abrams       </td> <td>Star Trek   </td> <td>13   </td>\n",
       "        </tr>\n",
       "        <tr>\n",
       "            <td>574  </td> <td>Star Trek Beyond       </td> <td>20-07-2016  </td> <td>2016</td> <td>nan        </td> <td>https://www.imdb.com/title/tt2660888/</td> <td>7.1        </td> <td>122           </td> <td>Action, Adventure, Sci-Fi, Thriller</td> <td>221100   </td> <td>Justin Lin        </td> <td>Star Trek   </td> <td>14   </td>\n",
       "        </tr>\n",
       "    </tbody>\n",
       "</table>"
      ],
      "text/plain": [
       "index | Title                   | Release Date | Year | Description | URL                                   | IMDb Rating | Runtime (mins) | Genres                              | Num Votes | Directors          | Movie Series | Order\n",
       "258   | Halloween               | 08-09-2018   | 2018 | nan         | https://www.imdb.com/title/tt1502407/ | 6.6         | 106            | Horror, Thriller                    | 109901    | David Gordon Green | Halloween    | 11\n",
       "571   | Star Trek: Nemesis      | 09-12-2002   | 2002 | nan         | https://www.imdb.com/title/tt0253754/ | 6.4         | 116            | Action, Adventure, Sci-Fi, Thriller | 71979     | Stuart Baird       | Star Trek    | 11\n",
       "572   | Star Trek               | 06-04-2009   | 2009 | nan         | https://www.imdb.com/title/tt0796366/ | 7.9         | 127            | Action, Adventure, Sci-Fi           | 569573    | J.J. Abrams        | Star Trek    | 12\n",
       "573   | Star Trek Into Darkness | 02-05-2013   | 2013 | nan         | https://www.imdb.com/title/tt1408101/ | 7.7         | 132            | Action, Adventure, Sci-Fi           | 456702    | J.J. Abrams        | Star Trek    | 13\n",
       "574   | Star Trek Beyond        | 20-07-2016   | 2016 | nan         | https://www.imdb.com/title/tt2660888/ | 7.1         | 122            | Action, Adventure, Sci-Fi, Thriller | 221100    | Justin Lin         | Star Trek    | 14"
      ]
     },
     "execution_count": 66,
     "metadata": {},
     "output_type": "execute_result"
    }
   ],
   "source": [
    "movies.where(\"Order\",are.above(10))"
   ]
  },
  {
   "cell_type": "code",
   "execution_count": 67,
   "id": "6d822dfb",
   "metadata": {},
   "outputs": [],
   "source": [
    "#movies.column(\"Order\")>1"
   ]
  },
  {
   "cell_type": "markdown",
   "id": "50cb13e9",
   "metadata": {},
   "source": [
    "## How many movies had sequels that were rated higher than the original? On average, do they perform better, or worse? "
   ]
  },
  {
   "cell_type": "code",
   "execution_count": 68,
   "id": "dc20ed54",
   "metadata": {},
   "outputs": [
    {
     "data": {
      "text/plain": [
       "True"
      ]
     },
     "execution_count": 68,
     "metadata": {},
     "output_type": "execute_result"
    }
   ],
   "source": [
    "original = movies.where(\"Order\",1)\n",
    "sequels = movies.where(\"Order\",are.above(1))\n",
    "\n",
    "np.average(original.where(\"IMDb Rating\",are.above(0)).column(\"IMDb Rating\")) > np.average(sequels.where(\"IMDb Rating\",are.above(0)).column(\"IMDb Rating\"))"
   ]
  },
  {
   "cell_type": "code",
   "execution_count": 69,
   "id": "7df75cff",
   "metadata": {},
   "outputs": [
    {
     "data": {
      "text/html": [
       "<table border=\"1\" class=\"dataframe\">\n",
       "    <thead>\n",
       "        <tr>\n",
       "            <th>index</th> <th>Title</th> <th>Release Date</th> <th>Year</th> <th>Description</th> <th>URL</th> <th>IMDb Rating</th> <th>Runtime (mins)</th> <th>Genres</th> <th>Num Votes</th> <th>Directors</th> <th>Movie Series</th> <th>Order</th>\n",
       "        </tr>\n",
       "    </thead>\n",
       "    <tbody>\n",
       "        <tr>\n",
       "            <td>0    </td> <td>101 Dalmatians</td> <td>18-11-1996  </td> <td>1996</td> <td>nan        </td> <td>https://www.imdb.com/title/tt0115433/</td> <td>5.7        </td> <td>103           </td> <td>Adventure, Comedy, Crime, Family</td> <td>98439    </td> <td>Stephen Herek</td> <td>101 Dalmatians</td> <td>1    </td>\n",
       "        </tr>\n",
       "        <tr>\n",
       "            <td>1    </td> <td>102 Dalmatians</td> <td>22-11-2000  </td> <td>2000</td> <td>nan        </td> <td>https://www.imdb.com/title/tt0211181/</td> <td>4.9        </td> <td>100           </td> <td>Adventure, Comedy, Family       </td> <td>33823    </td> <td>Kevin Lima   </td> <td>101 Dalmatians</td> <td>2    </td>\n",
       "        </tr>\n",
       "        <tr>\n",
       "            <td>2    </td> <td>12 Rounds     </td> <td>19-03-2009  </td> <td>2009</td> <td>nan        </td> <td>https://www.imdb.com/title/tt1160368/</td> <td>5.6        </td> <td>108           </td> <td>Action, Crime, Thriller         </td> <td>26828    </td> <td>Renny Harlin </td> <td>12 Rounds     </td> <td>1    </td>\n",
       "        </tr>\n",
       "    </tbody>\n",
       "</table>\n",
       "<p>... (863 rows omitted)</p>"
      ],
      "text/plain": [
       "<IPython.core.display.HTML object>"
      ]
     },
     "metadata": {},
     "output_type": "display_data"
    }
   ],
   "source": [
    "movies.show(3)"
   ]
  },
  {
   "cell_type": "markdown",
   "id": "47adac9f",
   "metadata": {},
   "source": [
    "## Challenge!"
   ]
  },
  {
   "cell_type": "markdown",
   "id": "9fc6c2f4",
   "metadata": {},
   "source": [
    "Let's suppose that you had the movies data stored in a USB Drive. You know how computers almost always scream at you for yanking out the USB Drive before you 'eject' it? Usually, nothing happens...\n",
    "\n",
    "But in this situation, let's say it does and you get the following table below: "
   ]
  },
  {
   "cell_type": "code",
   "execution_count": 70,
   "id": "d33b6b45",
   "metadata": {},
   "outputs": [
    {
     "data": {
      "text/html": [
       "<table border=\"1\" class=\"dataframe\">\n",
       "    <thead>\n",
       "        <tr>\n",
       "            <th>Title</th> <th>Year</th> <th>IMDb Rating</th> <th>Runtime (mins)</th> <th>Genres</th> <th>Movie Series</th>\n",
       "        </tr>\n",
       "    </thead>\n",
       "    <tbody>\n",
       "        <tr>\n",
       "            <td>I Know What You Did Last Summer             </td> <td>1997</td> <td>5.7        </td> <td>101           </td> <td>Horror, Mystery                            </td> <td>I Know What You Did Last Summer</td>\n",
       "        </tr>\n",
       "        <tr>\n",
       "            <td>Hellbound: Hellraiser II                    </td> <td>1988</td> <td>6.5        </td> <td>97            </td> <td>Horror, Thriller                           </td> <td>Hellbound                      </td>\n",
       "        </tr>\n",
       "        <tr>\n",
       "            <td>Fletch Lives                                </td> <td>1989</td> <td>6.1        </td> <td>95            </td> <td>Comedy, Crime, Mystery                     </td> <td>Fletch                         </td>\n",
       "        </tr>\n",
       "        <tr>\n",
       "            <td>Exorcist: The Beginning                     </td> <td>2004</td> <td>5.2        </td> <td>114           </td> <td>Horror, Mystery, Thriller                  </td> <td>The Exorcist                   </td>\n",
       "        </tr>\n",
       "        <tr>\n",
       "            <td>In the Name of the King: The Last Mission   </td> <td>2014</td> <td>3.1        </td> <td>86            </td> <td>Action, Adventure, Fantasy, Thriller       </td> <td>In the Name of the King        </td>\n",
       "        </tr>\n",
       "        <tr>\n",
       "            <td>The Lawnmower Man                           </td> <td>1992</td> <td>5.5        </td> <td>108           </td> <td>Horror, Sci-Fi                             </td> <td>Lawnmower Man                  </td>\n",
       "        </tr>\n",
       "        <tr>\n",
       "            <td>Final Destination 2                         </td> <td>2003</td> <td>6.2        </td> <td>90            </td> <td>Horror, Thriller                           </td> <td>Final Destination              </td>\n",
       "        </tr>\n",
       "        <tr>\n",
       "            <td>Harry Potter and the Prisoner of Azkaban    </td> <td>2004</td> <td>7.9        </td> <td>142           </td> <td>Adventure, Family, Fantasy, Mystery        </td> <td>Harry Potter                   </td>\n",
       "        </tr>\n",
       "        <tr>\n",
       "            <td>Star Wars: Episode II - Attack of the Clones</td> <td>2002</td> <td>6.5        </td> <td>142           </td> <td>Action, Adventure, Fantasy, Sci-Fi         </td> <td>Star Wars                      </td>\n",
       "        </tr>\n",
       "        <tr>\n",
       "            <td>Harry Potter and the Half-Blood Prince      </td> <td>2009</td> <td>7.6        </td> <td>153           </td> <td>Action, Adventure, Family, Fantasy, Mystery</td> <td>Harry Potter                   </td>\n",
       "        </tr>\n",
       "    </tbody>\n",
       "</table>\n",
       "<p>... (856 rows omitted)</p>"
      ],
      "text/plain": [
       "Title                                        | Year | IMDb Rating | Runtime (mins) | Genres                                      | Movie Series\n",
       "I Know What You Did Last Summer              | 1997 | 5.7         | 101            | Horror, Mystery                             | I Know What You Did Last Summer\n",
       "Hellbound: Hellraiser II                     | 1988 | 6.5         | 97             | Horror, Thriller                            | Hellbound\n",
       "Fletch Lives                                 | 1989 | 6.1         | 95             | Comedy, Crime, Mystery                      | Fletch\n",
       "Exorcist: The Beginning                      | 2004 | 5.2         | 114            | Horror, Mystery, Thriller                   | The Exorcist\n",
       "In the Name of the King: The Last Mission    | 2014 | 3.1         | 86             | Action, Adventure, Fantasy, Thriller        | In the Name of the King\n",
       "The Lawnmower Man                            | 1992 | 5.5         | 108            | Horror, Sci-Fi                              | Lawnmower Man\n",
       "Final Destination 2                          | 2003 | 6.2         | 90             | Horror, Thriller                            | Final Destination\n",
       "Harry Potter and the Prisoner of Azkaban     | 2004 | 7.9         | 142            | Adventure, Family, Fantasy, Mystery         | Harry Potter\n",
       "Star Wars: Episode II - Attack of the Clones | 2002 | 6.5         | 142            | Action, Adventure, Fantasy, Sci-Fi          | Star Wars\n",
       "Harry Potter and the Half-Blood Prince       | 2009 | 7.6         | 153            | Action, Adventure, Family, Fantasy, Mystery | Harry Potter\n",
       "... (856 rows omitted)"
      ]
     },
     "execution_count": 70,
     "metadata": {},
     "output_type": "execute_result"
    }
   ],
   "source": [
    "challenge_movies = movies.drop('Order','index','Description','URL','Num Votes','Directors','Release Date').sample(movies.num_rows)\n",
    "challenge_movies"
   ]
  },
  {
   "cell_type": "markdown",
   "id": "17189703",
   "metadata": {},
   "source": [
    "### Question: How can we use our methods to re-order our rows back to their original state? We unfortunately lost the columns for good... :("
   ]
  },
  {
   "cell_type": "code",
   "execution_count": 72,
   "id": "69dc6698",
   "metadata": {},
   "outputs": [
    {
     "data": {
      "text/html": [
       "<table border=\"1\" class=\"dataframe\">\n",
       "    <thead>\n",
       "        <tr>\n",
       "            <th>Title</th> <th>Year</th> <th>IMDb Rating</th> <th>Runtime (mins)</th> <th>Genres</th> <th>Movie Series</th>\n",
       "        </tr>\n",
       "    </thead>\n",
       "    <tbody>\n",
       "        <tr>\n",
       "            <td>Bambi                         </td> <td>1942</td> <td>7.3        </td> <td>70            </td> <td>Animation, Drama, Family </td> <td>Bambi                         </td>\n",
       "        </tr>\n",
       "        <tr>\n",
       "            <td>Cat People                    </td> <td>1942</td> <td>7.3        </td> <td>73            </td> <td>Fantasy, Horror, Thriller</td> <td>Cat People                    </td>\n",
       "        </tr>\n",
       "        <tr>\n",
       "            <td>The Curse of the Cat People   </td> <td>1944</td> <td>6.9        </td> <td>70            </td> <td>Drama, Horror, Mystery   </td> <td>Cat People                    </td>\n",
       "        </tr>\n",
       "        <tr>\n",
       "            <td>The Curse of the Cat People   </td> <td>1944</td> <td>6.9        </td> <td>70            </td> <td>Drama, Horror, Mystery   </td> <td>Cat People                    </td>\n",
       "        </tr>\n",
       "        <tr>\n",
       "            <td>The Hustler                   </td> <td>1961</td> <td>8          </td> <td>134           </td> <td>Drama, Sport             </td> <td>The Hustler                   </td>\n",
       "        </tr>\n",
       "        <tr>\n",
       "            <td>Planet of the Apes            </td> <td>1968</td> <td>8          </td> <td>112           </td> <td>Adventure, Sci-Fi        </td> <td>Planet of the Apes            </td>\n",
       "        </tr>\n",
       "        <tr>\n",
       "            <td>Beneath the Planet of the Apes</td> <td>1970</td> <td>6.1        </td> <td>95            </td> <td>Action, Adventure, Sci-Fi</td> <td>Beneath the Planet of the Apes</td>\n",
       "        </tr>\n",
       "        <tr>\n",
       "            <td>Beneath the Planet of the Apes</td> <td>1970</td> <td>6.1        </td> <td>95            </td> <td>Action, Adventure, Sci-Fi</td> <td>Beneath the Planet of the Apes</td>\n",
       "        </tr>\n",
       "        <tr>\n",
       "            <td>Dirty Harry                   </td> <td>1971</td> <td>7.7        </td> <td>102           </td> <td>Action, Crime, Thriller  </td> <td>Dirty Harry                   </td>\n",
       "        </tr>\n",
       "        <tr>\n",
       "            <td>Dirty Harry                   </td> <td>1971</td> <td>7.7        </td> <td>102           </td> <td>Action, Crime, Thriller  </td> <td>Dirty Harry                   </td>\n",
       "        </tr>\n",
       "    </tbody>\n",
       "</table>\n",
       "<p>... (856 rows omitted)</p>"
      ],
      "text/plain": [
       "Title                          | Year | IMDb Rating | Runtime (mins) | Genres                    | Movie Series\n",
       "Bambi                          | 1942 | 7.3         | 70             | Animation, Drama, Family  | Bambi\n",
       "Cat People                     | 1942 | 7.3         | 73             | Fantasy, Horror, Thriller | Cat People\n",
       "The Curse of the Cat People    | 1944 | 6.9         | 70             | Drama, Horror, Mystery    | Cat People\n",
       "The Curse of the Cat People    | 1944 | 6.9         | 70             | Drama, Horror, Mystery    | Cat People\n",
       "The Hustler                    | 1961 | 8           | 134            | Drama, Sport              | The Hustler\n",
       "Planet of the Apes             | 1968 | 8           | 112            | Adventure, Sci-Fi         | Planet of the Apes\n",
       "Beneath the Planet of the Apes | 1970 | 6.1         | 95             | Action, Adventure, Sci-Fi | Beneath the Planet of the Apes\n",
       "Beneath the Planet of the Apes | 1970 | 6.1         | 95             | Action, Adventure, Sci-Fi | Beneath the Planet of the Apes\n",
       "Dirty Harry                    | 1971 | 7.7         | 102            | Action, Crime, Thriller   | Dirty Harry\n",
       "Dirty Harry                    | 1971 | 7.7         | 102            | Action, Crime, Thriller   | Dirty Harry\n",
       "... (856 rows omitted)"
      ]
     },
     "execution_count": 72,
     "metadata": {},
     "output_type": "execute_result"
    }
   ],
   "source": [
    "challenge_movies.sort(\"Movie Series\").sort(\"Year\")"
   ]
  },
  {
   "cell_type": "markdown",
   "id": "e0df7e3c",
   "metadata": {},
   "source": [
    "# From Homework02"
   ]
  },
  {
   "cell_type": "markdown",
   "id": "22681ae0",
   "metadata": {},
   "source": [
    "**Question 3.** The `faithful_with_eruption_nums` table contains two columns: `eruption_number`, which represents the number of that eruption, and `waiting`, which represents the time spent waiting after that eruption. For example, take the first two rows of the table:\n",
    "\n",
    "| eruption number | waiting |\n",
    "|-----------------|---------|\n",
    "| 1               | 79      |\n",
    "| 2               | 54      |\n",
    "\n",
    "We can read this as follows: after the first eruption, we waited 79 minutes for the second eruption. Then, after the second eruption, we waited 54 minutes for the third eruption.\n",
    "\n",
    "Suppose Oscar and Wendy started watching Old Faithful at the start of the first eruption. Assume that they watch until the end of the tenth eruption. For some of that time they will be watching eruptions, and for the rest of the time they will be waiting for Old Faithful to erupt. How many minutes will they spend waiting for eruptions? **(4 Points)**\n",
    "\n",
    "*Hint #1:* One way to approach this problem is to use the `take` or `where` method on the table `faithful_with_eruption_nums`. \n",
    "\n",
    "*Hint #2:* `first_nine_waiting_times` must be an array.\n",
    "\n",
    "<!--\n",
    "BEGIN QUESTION\n",
    "name: q4_3\n",
    "points:\n",
    " - 0\n",
    " - 4\n",
    "-->"
   ]
  },
  {
   "cell_type": "code",
   "execution_count": 79,
   "id": "5a8a8d42",
   "metadata": {},
   "outputs": [
    {
     "data": {
      "text/html": [
       "<table border=\"1\" class=\"dataframe\">\n",
       "    <thead>\n",
       "        <tr>\n",
       "            <th>eruption number</th> <th>waiting</th>\n",
       "        </tr>\n",
       "    </thead>\n",
       "    <tbody>\n",
       "        <tr>\n",
       "            <td>1              </td> <td>79     </td>\n",
       "        </tr>\n",
       "        <tr>\n",
       "            <td>2              </td> <td>54     </td>\n",
       "        </tr>\n",
       "        <tr>\n",
       "            <td>3              </td> <td>74     </td>\n",
       "        </tr>\n",
       "        <tr>\n",
       "            <td>4              </td> <td>62     </td>\n",
       "        </tr>\n",
       "        <tr>\n",
       "            <td>5              </td> <td>85     </td>\n",
       "        </tr>\n",
       "        <tr>\n",
       "            <td>6              </td> <td>55     </td>\n",
       "        </tr>\n",
       "        <tr>\n",
       "            <td>7              </td> <td>88     </td>\n",
       "        </tr>\n",
       "        <tr>\n",
       "            <td>8              </td> <td>85     </td>\n",
       "        </tr>\n",
       "        <tr>\n",
       "            <td>9              </td> <td>51     </td>\n",
       "        </tr>\n",
       "        <tr>\n",
       "            <td>10             </td> <td>85     </td>\n",
       "        </tr>\n",
       "    </tbody>\n",
       "</table>\n",
       "<p>... (262 rows omitted)</p>"
      ],
      "text/plain": [
       "<IPython.core.display.HTML object>"
      ]
     },
     "metadata": {},
     "output_type": "display_data"
    },
    {
     "data": {
      "text/plain": [
       "633"
      ]
     },
     "execution_count": 79,
     "metadata": {},
     "output_type": "execute_result"
    }
   ],
   "source": [
    "faithful = Table.read_table('old_faithful.csv').drop(\"eruptions\")\n",
    "faithful_with_eruption_nums = faithful.with_column(\"eruption number\", np.arange(faithful.num_rows) + 1).select(1, 0)\n",
    "\n",
    "faithful_with_eruption_nums.show(10)\n",
    "\n",
    "\n",
    "first_nine_waiting_times = faithful_with_eruption_nums.column(\"waiting\")[:9]\n",
    "total_waiting_time_until_tenth = sum(first_nine_waiting_times)\n",
    "total_waiting_time_until_tenth"
   ]
  },
  {
   "cell_type": "code",
   "execution_count": null,
   "id": "0576d520",
   "metadata": {},
   "outputs": [],
   "source": []
  },
  {
   "cell_type": "code",
   "execution_count": null,
   "id": "a47ac607",
   "metadata": {},
   "outputs": [],
   "source": []
  },
  {
   "cell_type": "markdown",
   "id": "15a0f120",
   "metadata": {},
   "source": [
    "# "
   ]
  }
 ],
 "metadata": {
  "kernelspec": {
   "display_name": "Python 3 (ipykernel)",
   "language": "python",
   "name": "python3"
  },
  "language_info": {
   "codemirror_mode": {
    "name": "ipython",
    "version": 3
   },
   "file_extension": ".py",
   "mimetype": "text/x-python",
   "name": "python",
   "nbconvert_exporter": "python",
   "pygments_lexer": "ipython3",
   "version": "3.7.8"
  }
 },
 "nbformat": 4,
 "nbformat_minor": 5
}
